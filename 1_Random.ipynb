{
 "cells": [
  {
   "cell_type": "code",
   "execution_count": 64,
   "metadata": {},
   "outputs": [],
   "source": [
    "# Generate random number"
   ]
  },
  {
   "cell_type": "code",
   "execution_count": 65,
   "metadata": {},
   "outputs": [
    {
     "name": "stdout",
     "output_type": "stream",
     "text": [
      "Print y\n",
      "[41.2977234063449, 81.29012525585424, 28.824996100210786, 6.33602317624784, 51.28575560408658, 23.994697848203682, 40.30093943983532, 75.55845283581593, 47.24400225659684, 56.42822174817176]\n"
     ]
    }
   ],
   "source": [
    "import random\n",
    "y = [random.random()*100.0 for i in range(10)]\n",
    "print ('Print y')\n",
    "print (y)"
   ]
  },
  {
   "cell_type": "code",
   "execution_count": 66,
   "metadata": {},
   "outputs": [
    {
     "name": "stdout",
     "output_type": "stream",
     "text": [
      "Sorted List\n",
      "6.34\n",
      "23.99\n",
      "28.82\n",
      "40.30\n",
      "41.30\n",
      "47.24\n",
      "51.29\n",
      "56.43\n",
      "75.56\n",
      "81.29\n"
     ]
    }
   ],
   "source": [
    "y.sort()\n",
    "print ('Sorted List')\n",
    "for i in range(len(y)):\n",
    "    print (\"%.2f\" % y[i])\n"
   ]
  },
  {
   "cell_type": "code",
   "execution_count": 67,
   "metadata": {},
   "outputs": [],
   "source": [
    "# Make a function"
   ]
  },
  {
   "cell_type": "code",
   "execution_count": 68,
   "metadata": {},
   "outputs": [],
   "source": [
    "def avg(x):\n",
    "    return sum(y)/len(y)"
   ]
  },
  {
   "cell_type": "code",
   "execution_count": 69,
   "metadata": {},
   "outputs": [
    {
     "name": "stdout",
     "output_type": "stream",
     "text": [
      "Avg :  45.25609376713679\n",
      "Max :  81.29012525585424\n",
      "Min :  6.33602317624784\n",
      "Number Below 50 : 6\n"
     ]
    }
   ],
   "source": [
    "print ('Avg : ', str(avg(y)))\n",
    "print ('Max : ', str(max(y)))\n",
    "print ('Min : ', str(min(y)))\n",
    "z = sum(1 if i<50.0 else 0 for i in y)\n",
    "print ('Number Below 50 : ' + str(z))"
   ]
  },
  {
   "cell_type": "code",
   "execution_count": 70,
   "metadata": {},
   "outputs": [
    {
     "name": "stdout",
     "output_type": "stream",
     "text": [
      "45.25609376713679\n",
      "45.25609376713679\n",
      "21.58432650835818\n",
      "44.27086283147087\n"
     ]
    }
   ],
   "source": [
    "import numpy as np\n",
    "print (np.mean(y))\n",
    "print (np.average(y))\n",
    "print (np.std(y))\n",
    "print (np.median(y))"
   ]
  },
  {
   "cell_type": "code",
   "execution_count": null,
   "metadata": {},
   "outputs": [],
   "source": []
  }
 ],
 "metadata": {
  "kernelspec": {
   "display_name": "Python 3",
   "language": "python",
   "name": "python3"
  },
  "language_info": {
   "codemirror_mode": {
    "name": "ipython",
    "version": 3
   },
   "file_extension": ".py",
   "mimetype": "text/x-python",
   "name": "python",
   "nbconvert_exporter": "python",
   "pygments_lexer": "ipython3",
   "version": "3.7.3"
  }
 },
 "nbformat": 4,
 "nbformat_minor": 2
}
