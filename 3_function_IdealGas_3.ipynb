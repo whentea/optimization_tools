{
 "cells": [
  {
   "cell_type": "code",
   "execution_count": 31,
   "metadata": {},
   "outputs": [
    {
     "name": "stdout",
     "output_type": "stream",
     "text": [
      "----------Temperature: 450 K\n",
      "The ideal gas pressure : 748690.425 Pa\n",
      "The Redlich-Kwong pressure : 749529.45 Pa\n",
      "----------Temperature: 460 K\n",
      "The ideal gas pressure : 765327.990 Pa\n",
      "The Redlich-Kwong pressure : 766284.19 Pa\n",
      "----------Temperature: 470 K\n",
      "The ideal gas pressure : 781965.555 Pa\n",
      "The Redlich-Kwong pressure : 783037.90 Pa\n",
      "----------Temperature: 480 K\n",
      "The ideal gas pressure : 798603.120 Pa\n",
      "The Redlich-Kwong pressure : 799790.61 Pa\n",
      "----------Temperature: 490 K\n",
      "The ideal gas pressure : 815240.685 Pa\n",
      "The Redlich-Kwong pressure : 816542.39 Pa\n",
      "----------Temperature: 500 K\n",
      "The ideal gas pressure : 831878.250 Pa\n",
      "The Redlich-Kwong pressure : 833293.28 Pa\n",
      "----------Temperature: 510 K\n",
      "The ideal gas pressure : 848515.815 Pa\n",
      "The Redlich-Kwong pressure : 850043.32 Pa\n",
      "----------Temperature: 520 K\n",
      "The ideal gas pressure : 865153.380 Pa\n",
      "The Redlich-Kwong pressure : 866792.55 Pa\n",
      "----------Temperature: 530 K\n",
      "The ideal gas pressure : 881790.945 Pa\n",
      "The Redlich-Kwong pressure : 883541.02 Pa\n",
      "----------Temperature: 540 K\n",
      "The ideal gas pressure : 898428.510 Pa\n",
      "The Redlich-Kwong pressure : 900288.76 Pa\n"
     ]
    }
   ],
   "source": [
    "def P_RK_IG(V, T, do_ideal_gas=False):\n",
    "    R = 0.0821\n",
    "    #T = 500\n",
    "    #V = 5\n",
    "    Pc = 37.2\n",
    "    Tc = 132.5\n",
    "\n",
    "    a = 0.427 * pow(R,2) * pow(Tc,2.5) / Pc\n",
    "    b = 0.0866 * R * Tc / Pc\n",
    "\n",
    "    P_ig = R * T / V\n",
    "    P_rk = R * T / (V-b) - a / (V*(V+b)*pow(T,0.5))\n",
    "\n",
    "    if do_ideal_gas:\n",
    "        return format(P_ig * 101325, '.3f')\n",
    "    else:\n",
    "        return format(P_rk * 101325, '.2f')\n",
    "    \n",
    "for T in range(450,550,10):\n",
    "    print (\"----------Temperature: \" + str(T) + \" K\")\n",
    "    print (\"The ideal gas pressure : \" + str(P_RK_IG(5,T,True)) + \" Pa\")\n",
    "    #print (\"The Redlich-Kwong pressure : \" + str(P_RK_IG(5,T)) + \" Pa\")\n",
    "    print (\"The Redlich-Kwong pressure : \" + P_RK_IG(5,T) + \" Pa\")"
   ]
  },
  {
   "cell_type": "code",
   "execution_count": null,
   "metadata": {},
   "outputs": [],
   "source": []
  }
 ],
 "metadata": {
  "kernelspec": {
   "display_name": "Python 3",
   "language": "python",
   "name": "python3"
  },
  "language_info": {
   "codemirror_mode": {
    "name": "ipython",
    "version": 3
   },
   "file_extension": ".py",
   "mimetype": "text/x-python",
   "name": "python",
   "nbconvert_exporter": "python",
   "pygments_lexer": "ipython3",
   "version": "3.7.3"
  }
 },
 "nbformat": 4,
 "nbformat_minor": 2
}
