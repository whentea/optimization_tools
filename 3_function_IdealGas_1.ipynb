{
 "cells": [
  {
   "cell_type": "code",
   "execution_count": 2,
   "metadata": {},
   "outputs": [
    {
     "name": "stdout",
     "output_type": "stream",
     "text": [
      "The ideal gas pressure : 831878.2500000001 Pa\n",
      "The ideal gas pressure : 831878.25 Pa\n",
      "The Redlich-Kwong pressure : 833293.2754200537 Pa\n"
     ]
    }
   ],
   "source": [
    "R = 0.0821\n",
    "T = 500\n",
    "V = 5\n",
    "Pc = 37.2\n",
    "Tc = 132.5\n",
    "\n",
    "a = 0.427 * pow(R,2) * pow(Tc,2.5) / Pc\n",
    "b = 0.0866 * R * Tc / Pc\n",
    "\n",
    "P_ig = R * T / V\n",
    "P_rk = R * T / (V-b) - a/(V*(V+b)*pow(T,0.5))\n",
    "\n",
    "P_ig = P_ig * 101325\n",
    "P_rk = P_rk * 101325\n",
    "\n",
    "print (\"The ideal gas pressure : \" + str(P_ig) + \" Pa\")\n",
    "print (\"The ideal gas pressure : \" + \"%.2f\" % P_ig + \" Pa\") # Dalam 2 angka dibelakang KOMA\n",
    "print (\"The Redlich-Kwong pressure : \" + str(P_rk) + \" Pa\")"
   ]
  },
  {
   "cell_type": "code",
   "execution_count": null,
   "metadata": {},
   "outputs": [],
   "source": []
  }
 ],
 "metadata": {
  "kernelspec": {
   "display_name": "Python 3",
   "language": "python",
   "name": "python3"
  },
  "language_info": {
   "codemirror_mode": {
    "name": "ipython",
    "version": 3
   },
   "file_extension": ".py",
   "mimetype": "text/x-python",
   "name": "python",
   "nbconvert_exporter": "python",
   "pygments_lexer": "ipython3",
   "version": "3.7.3"
  }
 },
 "nbformat": 4,
 "nbformat_minor": 2
}
